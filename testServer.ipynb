{
 "cells": [
  {
   "cell_type": "code",
   "execution_count": null,
   "metadata": {
    "scrolled": true
   },
   "outputs": [],
   "source": [
    "import utilitiesHSC\n",
    "import importlib\n",
    "importlib.reload(utilitiesHSC)"
   ]
  },
  {
   "cell_type": "code",
   "execution_count": null,
   "metadata": {
    "scrolled": false
   },
   "outputs": [
    {
     "name": "stdout",
     "output_type": "stream",
     "text": [
      " * Serving Flask app \"webApp\" (lazy loading)\n",
      " * Environment: production\n",
      "   WARNING: This is a development server. Do not use it in a production deployment.\n",
      "   Use a production WSGI server instead.\n",
      " * Debug mode: on\n"
     ]
    },
    {
     "name": "stderr",
     "output_type": "stream",
     "text": [
      " * Running on http://0.0.0.0:5000/ (Press CTRL+C to quit)\n"
     ]
    }
   ],
   "source": [
    "run webApp.py"
   ]
  },
  {
   "cell_type": "code",
   "execution_count": 33,
   "metadata": {},
   "outputs": [
    {
     "name": "stdout",
     "output_type": "stream",
     "text": [
      " * Serving Flask app \"webAppAJAX_test\" (lazy loading)\n",
      " * Environment: production\n",
      "   WARNING: This is a development server. Do not use it in a production deployment.\n",
      "   Use a production WSGI server instead.\n",
      " * Debug mode: on\n"
     ]
    },
    {
     "name": "stderr",
     "output_type": "stream",
     "text": [
      " * Running on http://0.0.0.0:5000/ (Press CTRL+C to quit)\n",
      "192.168.0.17 - - [12/Dec/2020 13:57:48] \"\u001b[37mGET / HTTP/1.1\u001b[0m\" 200 -\n",
      "192.168.0.17 - - [12/Dec/2020 13:57:49] \"\u001b[37mPOST /ajax HTTP/1.1\u001b[0m\" 200 -\n"
     ]
    }
   ],
   "source": [
    "run webAppAJAX_test.py"
   ]
  },
  {
   "cell_type": "code",
   "execution_count": 35,
   "metadata": {},
   "outputs": [
    {
     "data": {
      "text/plain": [
       "'John'"
      ]
     },
     "metadata": {},
     "output_type": "display_data"
    }
   ],
   "source": [
    "import json\n",
    "data='{\"name\":\"John\",\"age\":30,\"isAdmin\":false,\"courses\":[\"html\",\"css\",\"js\"],\"wife\":null}'\n",
    "y = json.loads(data)\n",
    "display(y['name'])"
   ]
  },
  {
   "cell_type": "code",
   "execution_count": 82,
   "metadata": {},
   "outputs": [],
   "source": [
    "import pandas as pd\n",
    "import numpy as np\n",
    "import json\n",
    "\n",
    "# Import code functions\n",
    "from utilitiesHSC import tryReadCSV\n",
    "from utilitiesHSC import tryReadCSV_p\n",
    "from utilitiesHSC import genFigHHMM\n",
    "\n",
    "\n",
    "# Initialisation\n",
    "file_tempSensor=\"../RPi-HeatingSys-Data/dataTempSensor.csv\"\n",
    "file_tempSetpoint=\"../RPi-HeatingSys-Data/tempSetpoint.csv\"\n",
    "file_valveCmd=\"../RPi-HeatingSys-Data/valveCmd.csv\"\n",
    "nowDateTime=pd.to_datetime('today')\n",
    "fileDay=nowDateTime.strftime('%Y%m%d')\n",
    "file_controlSys='../RPi-HeatingSys-Data/DATA/'+fileDay+'_HSC_Data.csv'\n",
    "\n",
    "file_holdSetpoint='../RPi-HeatingSys-Data/holdCmd.csv'\n",
    "\n",
    "# Get latest data:\n",
    "nowDateTime=pd.to_datetime('today')\n",
    "fileDay=nowDateTime.strftime('%Y%m%d')\n",
    "file_controlSys='../RPi-HeatingSys-Data/DATA/'+fileDay+'_HSC_Data.csv'\n",
    "read_controlSys,errorActive=tryReadCSV(file_controlSys,'',pd)\n",
    "currentData=read_controlSys.iloc[-1]\n",
    "\n",
    "# Get latest data:\n",
    "read_holdCmd,errorActive=tryReadCSV(file_holdSetpoint,'',pd)\n",
    "\n",
    "json_exp=currentData.to_json(orient=\"index\")"
   ]
  },
  {
   "cell_type": "code",
   "execution_count": 83,
   "metadata": {
    "scrolled": false
   },
   "outputs": [
    {
     "data": {
      "text/plain": [
       "'{\"DateTime\":\"2020-12-13 11:10:31.564625\",\"TA_U (C)\":21.9375,\"TF_U (C)\":22.4464285714,\"TA_M (C)\":22.625,\"TF_M (C)\":26.3571428571,\"TW_IN (C)\":25.2589285714,\"TW_OUT (C)\":23.4464285714,\"TA_UD (C)\":null,\"HA_UD (%)\":null,\"TA_MD (C)\":null,\"HA_MD (%)\":null,\"dataAvg (Count)\":7.0,\"TA_U_TG (C)\":21.5,\"TF_U_TG (C)\":23.0,\"TA_M_TG (C)\":21.5,\"TF_M_TG (C)\":23.0,\"ExitFlag\":0,\"Override\":0,\"V1U\":0,\"V2M\":0,\"V3G\":0,\"V4E\":0,\"WT_TIME\":\"2020-12-13 10:00:00\",\"WT_STA (name)\":\"CWQH\",\"WT_OUT (C)\":3.2,\"WT_APP (C)\":1.2,\"WT_CLOUDS (%)\":100,\"WT_SOLARRAD (W\\\\/m^2)\":26.7,\"WT_COND (code)\":500,\"WT_WIND (m\\\\/s)\":2.1,\"WT_RH (%)\":97.0}'"
      ]
     },
     "metadata": {},
     "output_type": "display_data"
    }
   ],
   "source": [
    "display(json_exp)"
   ]
  },
  {
   "cell_type": "code",
   "execution_count": 84,
   "metadata": {},
   "outputs": [
    {
     "data": {
      "text/plain": [
       "'2020-12-13 11:10:31.564625'"
      ]
     },
     "execution_count": 84,
     "metadata": {},
     "output_type": "execute_result"
    }
   ],
   "source": []
  },
  {
   "cell_type": "code",
   "execution_count": 85,
   "metadata": {},
   "outputs": [
    {
     "data": {
      "text/plain": [
       "DateTime (HD)     1\n",
       "HD_M_Act          1\n",
       "HD_M_Time        60\n",
       "TA_M_HD (C)       0\n",
       "Name: 0, dtype: int64"
      ]
     },
     "metadata": {},
     "output_type": "display_data"
    }
   ],
   "source": []
  },
  {
   "cell_type": "code",
   "execution_count": 86,
   "metadata": {},
   "outputs": [
    {
     "data": {
      "text/plain": [
       "DateTime               2020-12-13 11:10:31.564625\n",
       "TA_U (C)                                  21.9375\n",
       "TF_U (C)                                  22.4464\n",
       "TA_M (C)                                   22.625\n",
       "TF_M (C)                                  26.3571\n",
       "TW_IN (C)                                 25.2589\n",
       "TW_OUT (C)                                23.4464\n",
       "TA_UD (C)                                     NaN\n",
       "HA_UD (%)                                     NaN\n",
       "TA_MD (C)                                     NaN\n",
       "HA_MD (%)                                     NaN\n",
       "dataAvg (Count)                                 7\n",
       "TA_U_TG (C)                                  21.5\n",
       "TF_U_TG (C)                                    23\n",
       "TA_M_TG (C)                                  21.5\n",
       "TF_M_TG (C)                                    23\n",
       "ExitFlag                                        0\n",
       "Override                                        0\n",
       "V1U                                             0\n",
       "V2M                                             0\n",
       "V3G                                             0\n",
       "V4E                                             0\n",
       "WT_TIME                       2020-12-13 10:00:00\n",
       "WT_STA (name)                                CWQH\n",
       "WT_OUT (C)                                    3.2\n",
       "WT_APP (C)                                    1.2\n",
       "WT_CLOUDS (%)                                 100\n",
       "WT_SOLARRAD (W/m^2)                          26.7\n",
       "WT_COND (code)                                500\n",
       "WT_WIND (m/s)                                 2.1\n",
       "WT_RH (%)                                      97\n",
       "DateTime (HD)                                   1\n",
       "HD_M_Act                                        1\n",
       "HD_M_Time                                      60\n",
       "TA_M_HD (C)                                     0\n",
       "dtype: object"
      ]
     },
     "metadata": {},
     "output_type": "display_data"
    }
   ],
   "source": []
  },
  {
   "cell_type": "code",
   "execution_count": 87,
   "metadata": {},
   "outputs": [
    {
     "data": {
      "text/plain": [
       "'2020-12-13 11:10:31.564625'"
      ]
     },
     "execution_count": 87,
     "metadata": {},
     "output_type": "execute_result"
    }
   ],
   "source": []
  },
  {
   "cell_type": "code",
   "execution_count": 88,
   "metadata": {},
   "outputs": [
    {
     "data": {
      "text/plain": [
       "'{\"DateTime\":\"2020-12-13 11:10:31.564625\",\"TA_U (C)\":21.9375,\"TF_U (C)\":22.4464285714,\"TA_M (C)\":22.625,\"TF_M (C)\":26.3571428571,\"TW_IN (C)\":25.2589285714,\"TW_OUT (C)\":23.4464285714,\"TA_UD (C)\":null,\"HA_UD (%)\":null,\"TA_MD (C)\":null,\"HA_MD (%)\":null,\"dataAvg (Count)\":7.0,\"TA_U_TG (C)\":21.5,\"TF_U_TG (C)\":23.0,\"TA_M_TG (C)\":21.5,\"TF_M_TG (C)\":23.0,\"ExitFlag\":0,\"Override\":0,\"V1U\":0,\"V2M\":0,\"V3G\":0,\"V4E\":0,\"WT_TIME\":\"2020-12-13 10:00:00\",\"WT_STA (name)\":\"CWQH\",\"WT_OUT (C)\":3.2,\"WT_APP (C)\":1.2,\"WT_CLOUDS (%)\":100,\"WT_SOLARRAD (W\\\\/m^2)\":26.7,\"WT_COND (code)\":500,\"WT_WIND (m\\\\/s)\":2.1,\"WT_RH (%)\":97.0,\"DateTime (HD)\":1,\"HD_M_Act\":1,\"HD_M_Time\":60,\"TA_M_HD (C)\":0}'"
      ]
     },
     "metadata": {},
     "output_type": "display_data"
    }
   ],
   "source": []
  },
  {
   "cell_type": "code",
   "execution_count": 92,
   "metadata": {},
   "outputs": [
    {
     "data": {
      "text/plain": [
       "{}"
      ]
     },
     "metadata": {},
     "output_type": "display_data"
    }
   ],
   "source": []
  },
  {
   "cell_type": "code",
   "execution_count": 97,
   "metadata": {},
   "outputs": [
    {
     "data": {
      "text/plain": [
       "{1: 'asdf', 'asdfasdf': 'asdf'}"
      ]
     },
     "metadata": {},
     "output_type": "display_data"
    }
   ],
   "source": []
  },
  {
   "cell_type": "code",
   "execution_count": null,
   "metadata": {},
   "outputs": [],
   "source": []
  },
  {
   "cell_type": "code",
   "execution_count": null,
   "metadata": {},
   "outputs": [],
   "source": []
  }
 ],
 "metadata": {
  "kernelspec": {
   "display_name": "Python 3",
   "language": "python",
   "name": "python3"
  },
  "language_info": {
   "codemirror_mode": {
    "name": "ipython",
    "version": 3
   },
   "file_extension": ".py",
   "mimetype": "text/x-python",
   "name": "python",
   "nbconvert_exporter": "python",
   "pygments_lexer": "ipython3",
   "version": "3.8.3"
  }
 },
 "nbformat": 4,
 "nbformat_minor": 4
}
