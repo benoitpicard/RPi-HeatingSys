{
 "cells": [
  {
   "cell_type": "code",
   "execution_count": null,
   "metadata": {
    "scrolled": true
   },
   "outputs": [],
   "source": [
    "import utilitiesHSC\n",
    "import importlib\n",
    "importlib.reload(utilitiesHSC)"
   ]
  },
  {
   "cell_type": "code",
   "execution_count": 63,
   "metadata": {
    "scrolled": false
   },
   "outputs": [
    {
     "name": "stdout",
     "output_type": "stream",
     "text": [
      " * Serving Flask app \"webApp\" (lazy loading)\n",
      " * Environment: production\n",
      "   WARNING: This is a development server. Do not use it in a production deployment.\n",
      "   Use a production WSGI server instead.\n",
      " * Debug mode: on\n"
     ]
    },
    {
     "name": "stderr",
     "output_type": "stream",
     "text": [
      " * Running on http://0.0.0.0:5000/ (Press CTRL+C to quit)\n",
      "192.168.0.17 - - [13/Dec/2020 13:35:52] \"\u001b[37mGET /control HTTP/1.1\u001b[0m\" 200 -\n",
      "192.168.0.17 - - [13/Dec/2020 13:36:09] \"\u001b[37mGET /control HTTP/1.1\u001b[0m\" 200 -\n",
      "192.168.0.17 - - [13/Dec/2020 13:36:39] \"\u001b[37mGET /control HTTP/1.1\u001b[0m\" 200 -\n",
      "192.168.0.17 - - [13/Dec/2020 13:36:47] \"\u001b[37mGET /control HTTP/1.1\u001b[0m\" 200 -\n",
      "192.168.0.17 - - [13/Dec/2020 13:37:02] \"\u001b[37mGET /control HTTP/1.1\u001b[0m\" 200 -\n",
      "192.168.0.17 - - [13/Dec/2020 13:37:03] \"\u001b[37mPOST /ctrl_refresh HTTP/1.1\u001b[0m\" 200 -\n",
      "192.168.0.17 - - [13/Dec/2020 13:37:11] \"\u001b[37mPOST /ctrl_refresh HTTP/1.1\u001b[0m\" 200 -\n",
      "192.168.0.17 - - [13/Dec/2020 13:37:13] \"\u001b[37mGET /control HTTP/1.1\u001b[0m\" 200 -\n",
      "192.168.0.17 - - [13/Dec/2020 13:37:13] \"\u001b[37mPOST /ctrl_refresh HTTP/1.1\u001b[0m\" 200 -\n",
      "192.168.0.17 - - [13/Dec/2020 13:38:58] \"\u001b[37mGET /control HTTP/1.1\u001b[0m\" 200 -\n",
      "192.168.0.17 - - [13/Dec/2020 13:38:59] \"\u001b[37mPOST /ctrl_refresh HTTP/1.1\u001b[0m\" 200 -\n",
      "192.168.0.17 - - [13/Dec/2020 13:39:09] \"\u001b[37mGET /control HTTP/1.1\u001b[0m\" 200 -\n",
      "192.168.0.17 - - [13/Dec/2020 13:39:09] \"\u001b[37mPOST /ctrl_refresh HTTP/1.1\u001b[0m\" 200 -\n",
      "192.168.0.17 - - [13/Dec/2020 13:39:51] \"\u001b[37mGET /control HTTP/1.1\u001b[0m\" 200 -\n",
      "192.168.0.17 - - [13/Dec/2020 13:39:52] \"\u001b[37mPOST /ctrl_refresh HTTP/1.1\u001b[0m\" 200 -\n",
      "192.168.0.17 - - [13/Dec/2020 13:40:06] \"\u001b[37mGET /control HTTP/1.1\u001b[0m\" 200 -\n",
      "192.168.0.17 - - [13/Dec/2020 13:40:07] \"\u001b[37mPOST /ctrl_refresh HTTP/1.1\u001b[0m\" 200 -\n",
      "192.168.0.17 - - [13/Dec/2020 13:44:43] \"\u001b[37mGET /control HTTP/1.1\u001b[0m\" 200 -\n",
      "192.168.0.17 - - [13/Dec/2020 13:44:44] \"\u001b[37mPOST /ctrl_refresh HTTP/1.1\u001b[0m\" 200 -\n",
      "192.168.0.17 - - [13/Dec/2020 13:45:12] \"\u001b[37mGET /control HTTP/1.1\u001b[0m\" 200 -\n",
      "192.168.0.17 - - [13/Dec/2020 13:45:12] \"\u001b[37mPOST /ctrl_refresh HTTP/1.1\u001b[0m\" 200 -\n",
      "192.168.0.17 - - [13/Dec/2020 13:46:33] \"\u001b[37mPOST /ctrl_refresh HTTP/1.1\u001b[0m\" 200 -\n",
      "192.168.0.17 - - [13/Dec/2020 13:47:34] \"\u001b[37mGET /control HTTP/1.1\u001b[0m\" 200 -\n",
      "192.168.0.17 - - [13/Dec/2020 13:47:39] \"\u001b[37mPOST /ctrl_refresh HTTP/1.1\u001b[0m\" 200 -\n",
      "192.168.0.17 - - [13/Dec/2020 13:47:41] \"\u001b[37mGET /control HTTP/1.1\u001b[0m\" 200 -\n",
      "192.168.0.17 - - [13/Dec/2020 13:47:44] \"\u001b[37mGET /control HTTP/1.1\u001b[0m\" 200 -\n",
      "192.168.0.17 - - [13/Dec/2020 13:47:44] \"\u001b[37mPOST /ctrl_refresh HTTP/1.1\u001b[0m\" 200 -\n",
      "192.168.0.17 - - [13/Dec/2020 13:57:32] \"\u001b[37mGET /control HTTP/1.1\u001b[0m\" 200 -\n",
      "192.168.0.17 - - [13/Dec/2020 13:57:32] \"\u001b[37mPOST /ctrl_refresh HTTP/1.1\u001b[0m\" 200 -\n",
      "192.168.0.17 - - [13/Dec/2020 14:01:20] \"\u001b[37mGET /control HTTP/1.1\u001b[0m\" 200 -\n",
      "192.168.0.17 - - [13/Dec/2020 14:01:55] \"\u001b[37mGET /control HTTP/1.1\u001b[0m\" 200 -\n",
      "192.168.0.17 - - [13/Dec/2020 14:01:55] \"\u001b[37mPOST /ctrl_refresh HTTP/1.1\u001b[0m\" 200 -\n",
      "192.168.0.17 - - [13/Dec/2020 14:02:04] \"\u001b[37mGET /control HTTP/1.1\u001b[0m\" 200 -\n",
      "192.168.0.17 - - [13/Dec/2020 14:02:12] \"\u001b[37mGET /control HTTP/1.1\u001b[0m\" 200 -\n",
      "192.168.0.17 - - [13/Dec/2020 14:02:12] \"\u001b[37mPOST /ctrl_refresh HTTP/1.1\u001b[0m\" 200 -\n",
      "192.168.0.17 - - [13/Dec/2020 14:02:45] \"\u001b[37mGET /control HTTP/1.1\u001b[0m\" 200 -\n",
      "192.168.0.17 - - [13/Dec/2020 14:02:46] \"\u001b[37mPOST /ctrl_refresh HTTP/1.1\u001b[0m\" 200 -\n",
      "192.168.0.17 - - [13/Dec/2020 14:04:12] \"\u001b[37mGET /control HTTP/1.1\u001b[0m\" 200 -\n",
      "192.168.0.17 - - [13/Dec/2020 14:04:24] \"\u001b[37mGET /control HTTP/1.1\u001b[0m\" 200 -\n",
      "192.168.0.17 - - [13/Dec/2020 14:04:36] \"\u001b[37mGET /control HTTP/1.1\u001b[0m\" 200 -\n",
      "192.168.0.17 - - [13/Dec/2020 14:04:37] \"\u001b[37mPOST /ctrl_refresh HTTP/1.1\u001b[0m\" 200 -\n",
      "192.168.0.17 - - [13/Dec/2020 14:04:59] \"\u001b[37mGET /control HTTP/1.1\u001b[0m\" 200 -\n",
      "192.168.0.17 - - [13/Dec/2020 14:05:00] \"\u001b[37mPOST /ctrl_refresh HTTP/1.1\u001b[0m\" 200 -\n"
     ]
    }
   ],
   "source": [
    "run webApp.py"
   ]
  },
  {
   "cell_type": "code",
   "execution_count": 33,
   "metadata": {},
   "outputs": [
    {
     "name": "stdout",
     "output_type": "stream",
     "text": [
      " * Serving Flask app \"webAppAJAX_test\" (lazy loading)\n",
      " * Environment: production\n",
      "   WARNING: This is a development server. Do not use it in a production deployment.\n",
      "   Use a production WSGI server instead.\n",
      " * Debug mode: on\n"
     ]
    },
    {
     "name": "stderr",
     "output_type": "stream",
     "text": [
      " * Running on http://0.0.0.0:5000/ (Press CTRL+C to quit)\n",
      "192.168.0.17 - - [12/Dec/2020 13:57:48] \"\u001b[37mGET / HTTP/1.1\u001b[0m\" 200 -\n",
      "192.168.0.17 - - [12/Dec/2020 13:57:49] \"\u001b[37mPOST /ajax HTTP/1.1\u001b[0m\" 200 -\n"
     ]
    }
   ],
   "source": [
    "run webAppAJAX_test.py"
   ]
  },
  {
   "cell_type": "code",
   "execution_count": 35,
   "metadata": {},
   "outputs": [
    {
     "data": {
      "text/plain": [
       "'John'"
      ]
     },
     "metadata": {},
     "output_type": "display_data"
    }
   ],
   "source": [
    "import json\n",
    "data='{\"name\":\"John\",\"age\":30,\"isAdmin\":false,\"courses\":[\"html\",\"css\",\"js\"],\"wife\":null}'\n",
    "y = json.loads(data)\n",
    "display(y['name'])"
   ]
  },
  {
   "cell_type": "code",
   "execution_count": 71,
   "metadata": {},
   "outputs": [
    {
     "ename": "SyntaxError",
     "evalue": "EOL while scanning string literal (<ipython-input-71-e5d2fffa8795>, line 19)",
     "output_type": "error",
     "traceback": [
      "\u001b[1;36m  File \u001b[1;32m\"<ipython-input-71-e5d2fffa8795>\"\u001b[1;36m, line \u001b[1;32m19\u001b[0m\n\u001b[1;33m    file_holdCmd='../RPi-HeatingSys-Data/holdCmd.csv\"\u001b[0m\n\u001b[1;37m                                                     ^\u001b[0m\n\u001b[1;31mSyntaxError\u001b[0m\u001b[1;31m:\u001b[0m EOL while scanning string literal\n"
     ]
    }
   ],
   "source": [
    "import pandas as pd\n",
    "import numpy as np\n",
    "import json\n",
    "\n",
    "# Import code functions\n",
    "from utilitiesHSC import tryReadCSV\n",
    "from utilitiesHSC import tryReadCSV_p\n",
    "from utilitiesHSC import genFigHHMM\n",
    "\n",
    "\n",
    "# Initialisation\n",
    "file_tempSensor=\"../RPi-HeatingSys-Data/dataTempSensor.csv\"\n",
    "file_tempSetpoint=\"../RPi-HeatingSys-Data/tempSetpoint.csv\"\n",
    "file_valveCmd=\"../RPi-HeatingSys-Data/valveCmd.csv\"\n",
    "nowDateTime=pd.to_datetime('today')\n",
    "fileDay=nowDateTime.strftime('%Y%m%d')\n",
    "file_controlSys='../RPi-HeatingSys-Data/DATA/'+fileDay+'_HSC_Data.csv'\n",
    "\n",
    "file_holdCmd='../RPi-HeatingSys-Data/holdCmd.csv'\n",
    "\n",
    "# Get latest data:\n",
    "nowDateTime=pd.to_datetime('today')\n",
    "fileDay=nowDateTime.strftime('%Y%m%d')\n",
    "file_controlSys='../RPi-HeatingSys-Data/DATA/'+fileDay+'_HSC_Data.csv'\n",
    "read_controlSys,errorActive=tryReadCSV(file_controlSys,'',pd)\n",
    "currentData=read_controlSys.iloc[-1]\n",
    "\n",
    "# Get latest data:\n",
    "read_holdCmd,errorActive=tryReadCSV(file_holdCmd,'',pd)\n",
    "\n",
    "json_exp=currentData.to_json(orient=\"index\")"
   ]
  },
  {
   "cell_type": "code",
   "execution_count": 68,
   "metadata": {
    "scrolled": true
   },
   "outputs": [
    {
     "data": {
      "text/plain": [
       "'{\"DateTime\":\"2020-12-13 11:10:31.564625\",\"TA_U (C)\":21.9375,\"TF_U (C)\":22.4464285714,\"TA_M (C)\":22.625,\"TF_M (C)\":26.3571428571,\"TW_IN (C)\":25.2589285714,\"TW_OUT (C)\":23.4464285714,\"TA_UD (C)\":null,\"HA_UD (%)\":null,\"TA_MD (C)\":null,\"HA_MD (%)\":null,\"dataAvg (Count)\":7.0,\"TA_U_TG (C)\":21.5,\"TF_U_TG (C)\":23.0,\"TA_M_TG (C)\":21.5,\"TF_M_TG (C)\":23.0,\"ExitFlag\":0,\"Override\":0,\"V1U\":0,\"V2M\":0,\"V3G\":0,\"V4E\":0,\"WT_TIME\":\"2020-12-13 10:00:00\",\"WT_STA (name)\":\"CWQH\",\"WT_OUT (C)\":3.2,\"WT_APP (C)\":1.2,\"WT_CLOUDS (%)\":100,\"WT_SOLARRAD (W\\\\/m^2)\":26.7,\"WT_COND (code)\":500,\"WT_WIND (m\\\\/s)\":2.1,\"WT_RH (%)\":97.0}'"
      ]
     },
     "metadata": {},
     "output_type": "display_data"
    }
   ],
   "source": [
    "display(json_exp)"
   ]
  },
  {
   "cell_type": "code",
   "execution_count": 69,
   "metadata": {},
   "outputs": [
    {
     "data": {
      "text/plain": [
       "'2020-12-13 11:10:31.564625'"
      ]
     },
     "execution_count": 69,
     "metadata": {},
     "output_type": "execute_result"
    }
   ],
   "source": [
    "currentData['DateTime']"
   ]
  },
  {
   "cell_type": "code",
   "execution_count": 70,
   "metadata": {},
   "outputs": [
    {
     "ename": "NameError",
     "evalue": "name 'read_holdCmd' is not defined",
     "output_type": "error",
     "traceback": [
      "\u001b[1;31m---------------------------------------------------------------------------\u001b[0m",
      "\u001b[1;31mNameError\u001b[0m                                 Traceback (most recent call last)",
      "\u001b[1;32m<ipython-input-70-11978cc6a10e>\u001b[0m in \u001b[0;36m<module>\u001b[1;34m\u001b[0m\n\u001b[1;32m----> 1\u001b[1;33m \u001b[0mdisplay\u001b[0m\u001b[1;33m(\u001b[0m\u001b[0mread_holdCmd\u001b[0m\u001b[1;33m)\u001b[0m\u001b[1;33m\u001b[0m\u001b[1;33m\u001b[0m\u001b[0m\n\u001b[0m",
      "\u001b[1;31mNameError\u001b[0m: name 'read_holdCmd' is not defined"
     ]
    }
   ],
   "source": [
    "display(read_holdCmd)"
   ]
  },
  {
   "cell_type": "code",
   "execution_count": null,
   "metadata": {},
   "outputs": [],
   "source": []
  }
 ],
 "metadata": {
  "kernelspec": {
   "display_name": "Python 3",
   "language": "python",
   "name": "python3"
  },
  "language_info": {
   "codemirror_mode": {
    "name": "ipython",
    "version": 3
   },
   "file_extension": ".py",
   "mimetype": "text/x-python",
   "name": "python",
   "nbconvert_exporter": "python",
   "pygments_lexer": "ipython3",
   "version": "3.8.3"
  }
 },
 "nbformat": 4,
 "nbformat_minor": 4
}
